{
 "cells": [
  {
   "cell_type": "markdown",
   "metadata": {},
   "source": [
    "# Bonus - Create a DAG to schedule the process using Airflow."
   ]
  },
  {
   "cell_type": "code",
   "execution_count": 10,
   "metadata": {},
   "outputs": [],
   "source": [
    "# !pip install apache-airflow\n",
    "# !airflow db init"
   ]
  },
  {
   "cell_type": "code",
   "execution_count": 1,
   "metadata": {},
   "outputs": [],
   "source": [
    "import datetime\n",
    "\n",
    "from airflow.models import DAG\n",
    "from airflow.operators.python import PythonOperator\n",
    "from airflow.sensors.python import PythonSensor\n",
    "\n",
    "\n",
    "# Define functions\n",
    "def job_1():\n",
    "    print(\"Perform job 1\")\n",
    "\n",
    "\n",
    "def job_2():\n",
    "    print(\"Perform job 2\")\n",
    "\n",
    "\n",
    "def sensor_job():\n",
    "    print(\"Sensor Job\")"
   ]
  },
  {
   "cell_type": "code",
   "execution_count": 2,
   "metadata": {},
   "outputs": [],
   "source": [
    "# Parameters\n",
    "WORFKLOW_DAG_ID = \"my_example_dag\"\n",
    "WORFKFLOW_START_DATE = datetime.datetime(2022, 1, 1)\n",
    "WORKFLOW_SCHEDULE_INTERVAL = \"* * * * *\"\n",
    "WORKFLOW_EMAIL = [\"youremail@example.com\"]\n",
    "\n",
    "WORKFLOW_DEFAULT_ARGS = {\n",
    "    \"owner\": \"kiran\",\n",
    "    \"start_date\": WORFKFLOW_START_DATE,\n",
    "    \"email\": WORKFLOW_EMAIL,\n",
    "    \"email_on_failure\": False,\n",
    "    \"email_on_retry\": False,\n",
    "    \"retries\": 0,\n",
    "}"
   ]
  },
  {
   "cell_type": "code",
   "execution_count": 3,
   "metadata": {},
   "outputs": [],
   "source": [
    "# Initialize DAG\n",
    "dag = DAG(\n",
    "    dag_id=WORFKLOW_DAG_ID,\n",
    "    schedule_interval=WORKFLOW_SCHEDULE_INTERVAL,\n",
    "    default_args=WORKFLOW_DEFAULT_ARGS,\n",
    ")\n",
    "\n",
    "# Define jobs\n",
    "job_1_operator = PythonOperator(\n",
    "    task_id=\"task_job_1\",\n",
    "    python_callable=job_1,\n",
    "    dag=dag,\n",
    ")\n",
    "\n",
    "job_2_sensor = PythonSensor(\n",
    "    task_id=\"task_job_2_sensor\",\n",
    "    python_callable=sensor_job,\n",
    "    dag=dag,\n",
    "    poke_interval=180,\n",
    ")\n",
    "\n",
    "job_2_operator = PythonOperator(\n",
    "    task_id=\"task_job_2\",\n",
    "    python_callable=job_2,\n",
    "    dag=dag,\n",
    ")"
   ]
  },
  {
   "cell_type": "code",
   "execution_count": 4,
   "metadata": {},
   "outputs": [
    {
     "data": {
      "text/plain": [
       "<Task(PythonOperator): task_job_2>"
      ]
     },
     "execution_count": 4,
     "metadata": {},
     "output_type": "execute_result"
    }
   ],
   "source": [
    "# Set dependency\n",
    "job_1_operator >> job_2_sensor >> job_2_operator"
   ]
  },
  {
   "cell_type": "markdown",
   "metadata": {},
   "source": [
    "## We can copy the file path or change the DAGs folder\n",
    "$ cp dags_folder/dag.py/home/USER/airflow/dags/"
   ]
  },
  {
   "cell_type": "code",
   "execution_count": null,
   "metadata": {},
   "outputs": [],
   "source": [
    "# Then launch the web server with credentials "
   ]
  },
  {
   "cell_type": "code",
   "execution_count": 1,
   "metadata": {},
   "outputs": [],
   "source": [
    "# Launch the scheduler"
   ]
  }
 ],
 "metadata": {
  "kernelspec": {
   "display_name": "Python 3",
   "language": "python",
   "name": "python3"
  },
  "language_info": {
   "codemirror_mode": {
    "name": "ipython",
    "version": 3
   },
   "file_extension": ".py",
   "mimetype": "text/x-python",
   "name": "python",
   "nbconvert_exporter": "python",
   "pygments_lexer": "ipython3",
   "version": "3.7.4"
  }
 },
 "nbformat": 4,
 "nbformat_minor": 2
}
